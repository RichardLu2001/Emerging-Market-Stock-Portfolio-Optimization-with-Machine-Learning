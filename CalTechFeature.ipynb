{
 "cells": [
  {
   "cell_type": "code",
   "execution_count": 2,
   "id": "eaa05029-08aa-43bb-b54b-d6fcfffa9b40",
   "metadata": {},
   "outputs": [],
   "source": [
    "import numpy as np\n",
    "import pandas as pd\n",
    "import pickle\n",
    "import talib.abstract as ta"
   ]
  },
  {
   "cell_type": "code",
   "execution_count": 9,
   "id": "90f165d9-39d1-4603-9f47-0814da8433bf",
   "metadata": {},
   "outputs": [
    {
     "data": {
      "text/html": [
       "<div>\n",
       "<style scoped>\n",
       "    .dataframe tbody tr th:only-of-type {\n",
       "        vertical-align: middle;\n",
       "    }\n",
       "\n",
       "    .dataframe tbody tr th {\n",
       "        vertical-align: top;\n",
       "    }\n",
       "\n",
       "    .dataframe thead th {\n",
       "        text-align: right;\n",
       "    }\n",
       "</style>\n",
       "<table border=\"1\" class=\"dataframe\">\n",
       "  <thead>\n",
       "    <tr style=\"text-align: right;\">\n",
       "      <th></th>\n",
       "      <th>Adj_close_price</th>\n",
       "    </tr>\n",
       "    <tr>\n",
       "      <th>Date</th>\n",
       "      <th></th>\n",
       "    </tr>\n",
       "  </thead>\n",
       "  <tbody>\n",
       "    <tr>\n",
       "      <th>2001-01-01</th>\n",
       "      <td>3.089081</td>\n",
       "    </tr>\n",
       "    <tr>\n",
       "      <th>2001-01-02</th>\n",
       "      <td>3.095463</td>\n",
       "    </tr>\n",
       "    <tr>\n",
       "      <th>2001-01-03</th>\n",
       "      <td>3.072061</td>\n",
       "    </tr>\n",
       "    <tr>\n",
       "      <th>2001-01-04</th>\n",
       "      <td>3.052914</td>\n",
       "    </tr>\n",
       "    <tr>\n",
       "      <th>2001-01-05</th>\n",
       "      <td>3.021001</td>\n",
       "    </tr>\n",
       "  </tbody>\n",
       "</table>\n",
       "</div>"
      ],
      "text/plain": [
       "            Adj_close_price\n",
       "Date                       \n",
       "2001-01-01         3.089081\n",
       "2001-01-02         3.095463\n",
       "2001-01-03         3.072061\n",
       "2001-01-04         3.052914\n",
       "2001-01-05         3.021001"
      ]
     },
     "execution_count": 9,
     "metadata": {},
     "output_type": "execute_result"
    }
   ],
   "source": [
    "with open('./MomentumFeature.pkl', 'rb') as f:\n",
    "    df_dict = pickle.load(f)\n",
    "\n",
    "# Display one example to confirm successful loading\n",
    "df_dict[\"000001\"].head()"
   ]
  },
  {
   "cell_type": "code",
   "execution_count": 10,
   "id": "f7fb45fb-f626-47e0-bb65-a7b4c5fb5724",
   "metadata": {},
   "outputs": [],
   "source": [
    "# ta.TRIX(df_dict_cleaned[\"000001\"][\"Adj_close_price\"], timeperiod=30)\n",
    "# ta.RSI(df_dict_cleaned[\"000001\"][\"Adj_close_price\"], timeperiod=14)\n",
    "# ta.PPO(df_dict_cleaned[\"000001\"][\"Adj_close_price\"], fastperiod=12, slowperiod=26, matype=0)\n",
    "# ta.MOM(df_dict_cleaned[\"000001\"][\"Adj_close_price\"], timeperiod=10)\n",
    "# ta.macd, macdsignal, macdhist = MACDFIX(real, signalperiod=9)\n",
    "# ta.CMO(df_dict_cleaned[\"000001\"][\"Adj_close_price\"], timeperiod=14)\n",
    "# ta.APO(df_dict_cleaned[\"000001\"][\"Adj_close_price\"], fastperiod=12, slowperiod=26, matype=0)"
   ]
  },
  {
   "cell_type": "code",
   "execution_count": 11,
   "id": "6ace9f49-75eb-4b5d-b271-77524ccfd13e",
   "metadata": {},
   "outputs": [],
   "source": [
    "for key in df_dict:\n",
    "    df_dict[key][\"TRIX\"] = ta.TRIX(df_dict[key][\"Adj_close_price\"], timeperiod=30)\n",
    "    df_dict[key][\"RSI\"] = ta.RSI(df_dict[key][\"Adj_close_price\"], timeperiod=14)\n",
    "    df_dict[key][\"PPO\"] = ta.PPO(df_dict[key][\"Adj_close_price\"], fastperiod=14, slowperiod=30, matype=0)\n",
    "    df_dict[key][\"MOM\"] = ta.MOM(df_dict[key][\"Adj_close_price\"], timeperiod=14)\n",
    "    df_dict[key][\"macd\"],df_dict[key][\"macdsignal\"],df_dict[key][\"macdhist\"] = ta.MACDFIX(df_dict[key][\"Adj_close_price\"], signalperiod=14)\n",
    "    df_dict[key][\"CMO\"] = ta.CMO(df_dict[key][\"Adj_close_price\"], timeperiod=14)\n",
    "    df_dict[key][\"APO\"] = ta.APO(df_dict[key][\"Adj_close_price\"], fastperiod=14, slowperiod=30, matype=0)"
   ]
  },
  {
   "cell_type": "code",
   "execution_count": 12,
   "id": "8713a602-c431-4f14-957c-f262255d3b65",
   "metadata": {},
   "outputs": [
    {
     "data": {
      "text/html": [
       "<div>\n",
       "<style scoped>\n",
       "    .dataframe tbody tr th:only-of-type {\n",
       "        vertical-align: middle;\n",
       "    }\n",
       "\n",
       "    .dataframe tbody tr th {\n",
       "        vertical-align: top;\n",
       "    }\n",
       "\n",
       "    .dataframe thead th {\n",
       "        text-align: right;\n",
       "    }\n",
       "</style>\n",
       "<table border=\"1\" class=\"dataframe\">\n",
       "  <thead>\n",
       "    <tr style=\"text-align: right;\">\n",
       "      <th></th>\n",
       "      <th>Adj_close_price</th>\n",
       "      <th>TRIX</th>\n",
       "      <th>RSI</th>\n",
       "      <th>PPO</th>\n",
       "      <th>MOM</th>\n",
       "      <th>macd</th>\n",
       "      <th>macdsignal</th>\n",
       "      <th>macdhist</th>\n",
       "      <th>CMO</th>\n",
       "      <th>APO</th>\n",
       "    </tr>\n",
       "    <tr>\n",
       "      <th>Date</th>\n",
       "      <th></th>\n",
       "      <th></th>\n",
       "      <th></th>\n",
       "      <th></th>\n",
       "      <th></th>\n",
       "      <th></th>\n",
       "      <th></th>\n",
       "      <th></th>\n",
       "      <th></th>\n",
       "      <th></th>\n",
       "    </tr>\n",
       "  </thead>\n",
       "  <tbody>\n",
       "    <tr>\n",
       "      <th>2001-01-01</th>\n",
       "      <td>3.089081</td>\n",
       "      <td>NaN</td>\n",
       "      <td>NaN</td>\n",
       "      <td>NaN</td>\n",
       "      <td>NaN</td>\n",
       "      <td>NaN</td>\n",
       "      <td>NaN</td>\n",
       "      <td>NaN</td>\n",
       "      <td>NaN</td>\n",
       "      <td>NaN</td>\n",
       "    </tr>\n",
       "    <tr>\n",
       "      <th>2001-01-02</th>\n",
       "      <td>3.095463</td>\n",
       "      <td>NaN</td>\n",
       "      <td>NaN</td>\n",
       "      <td>NaN</td>\n",
       "      <td>NaN</td>\n",
       "      <td>NaN</td>\n",
       "      <td>NaN</td>\n",
       "      <td>NaN</td>\n",
       "      <td>NaN</td>\n",
       "      <td>NaN</td>\n",
       "    </tr>\n",
       "    <tr>\n",
       "      <th>2001-01-03</th>\n",
       "      <td>3.072061</td>\n",
       "      <td>NaN</td>\n",
       "      <td>NaN</td>\n",
       "      <td>NaN</td>\n",
       "      <td>NaN</td>\n",
       "      <td>NaN</td>\n",
       "      <td>NaN</td>\n",
       "      <td>NaN</td>\n",
       "      <td>NaN</td>\n",
       "      <td>NaN</td>\n",
       "    </tr>\n",
       "    <tr>\n",
       "      <th>2001-01-04</th>\n",
       "      <td>3.052914</td>\n",
       "      <td>NaN</td>\n",
       "      <td>NaN</td>\n",
       "      <td>NaN</td>\n",
       "      <td>NaN</td>\n",
       "      <td>NaN</td>\n",
       "      <td>NaN</td>\n",
       "      <td>NaN</td>\n",
       "      <td>NaN</td>\n",
       "      <td>NaN</td>\n",
       "    </tr>\n",
       "    <tr>\n",
       "      <th>2001-01-05</th>\n",
       "      <td>3.021001</td>\n",
       "      <td>NaN</td>\n",
       "      <td>NaN</td>\n",
       "      <td>NaN</td>\n",
       "      <td>NaN</td>\n",
       "      <td>NaN</td>\n",
       "      <td>NaN</td>\n",
       "      <td>NaN</td>\n",
       "      <td>NaN</td>\n",
       "      <td>NaN</td>\n",
       "    </tr>\n",
       "  </tbody>\n",
       "</table>\n",
       "</div>"
      ],
      "text/plain": [
       "            Adj_close_price  TRIX  RSI  PPO  MOM  macd  macdsignal  macdhist  \\\n",
       "Date                                                                           \n",
       "2001-01-01         3.089081   NaN  NaN  NaN  NaN   NaN         NaN       NaN   \n",
       "2001-01-02         3.095463   NaN  NaN  NaN  NaN   NaN         NaN       NaN   \n",
       "2001-01-03         3.072061   NaN  NaN  NaN  NaN   NaN         NaN       NaN   \n",
       "2001-01-04         3.052914   NaN  NaN  NaN  NaN   NaN         NaN       NaN   \n",
       "2001-01-05         3.021001   NaN  NaN  NaN  NaN   NaN         NaN       NaN   \n",
       "\n",
       "            CMO  APO  \n",
       "Date                  \n",
       "2001-01-01  NaN  NaN  \n",
       "2001-01-02  NaN  NaN  \n",
       "2001-01-03  NaN  NaN  \n",
       "2001-01-04  NaN  NaN  \n",
       "2001-01-05  NaN  NaN  "
      ]
     },
     "execution_count": 12,
     "metadata": {},
     "output_type": "execute_result"
    }
   ],
   "source": [
    "df_dict[\"000001\"].head()"
   ]
  },
  {
   "cell_type": "code",
   "execution_count": null,
   "id": "904bcaa3-7f27-4bfd-96e3-195f853eeec8",
   "metadata": {},
   "outputs": [],
   "source": []
  },
  {
   "cell_type": "code",
   "execution_count": null,
   "id": "0b338dac-686d-42c3-b207-7a97183beccb",
   "metadata": {},
   "outputs": [],
   "source": []
  },
  {
   "cell_type": "code",
   "execution_count": 8,
   "id": "f26d1b14-b1e3-4587-a56c-46158921fe45",
   "metadata": {},
   "outputs": [
    {
     "data": {
      "text/plain": [
       "'./MomentumFeature.pkl'"
      ]
     },
     "execution_count": 8,
     "metadata": {},
     "output_type": "execute_result"
    }
   ],
   "source": [
    "# Define the file path\n",
    "output_path = './MomentumFeature.pkl'\n",
    "\n",
    "# Save the dictionary to a pickle file\n",
    "with open(output_path, 'wb') as f:\n",
    "    pickle.dump(df_dict, f)\n",
    "\n",
    "output_path"
   ]
  }
 ],
 "metadata": {
  "kernelspec": {
   "display_name": "Python 3 (ipykernel)",
   "language": "python",
   "name": "python3"
  },
  "language_info": {
   "codemirror_mode": {
    "name": "ipython",
    "version": 3
   },
   "file_extension": ".py",
   "mimetype": "text/x-python",
   "name": "python",
   "nbconvert_exporter": "python",
   "pygments_lexer": "ipython3",
   "version": "3.11.7"
  }
 },
 "nbformat": 4,
 "nbformat_minor": 5
}
